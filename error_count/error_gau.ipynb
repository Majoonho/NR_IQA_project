{
 "cells": [
  {
   "cell_type": "code",
   "execution_count": 2,
   "metadata": {},
   "outputs": [],
   "source": [
    "import pandas as pd\n",
    "import matplotlib.pyplot as plt\n",
    "import numpy as np"
   ]
  },
  {
   "cell_type": "code",
   "execution_count": 153,
   "metadata": {},
   "outputs": [],
   "source": [
    "NRIQA_df_last=pd.read_csv('C:/Users/Home/Desktop/IQA/NRIQA_df_last.csv')"
   ]
  },
  {
   "cell_type": "code",
   "execution_count": 154,
   "metadata": {},
   "outputs": [
    {
     "data": {
      "text/html": [
       "<div>\n",
       "<style scoped>\n",
       "    .dataframe tbody tr th:only-of-type {\n",
       "        vertical-align: middle;\n",
       "    }\n",
       "\n",
       "    .dataframe tbody tr th {\n",
       "        vertical-align: top;\n",
       "    }\n",
       "\n",
       "    .dataframe thead th {\n",
       "        text-align: right;\n",
       "    }\n",
       "</style>\n",
       "<table border=\"1\" class=\"dataframe\">\n",
       "  <thead>\n",
       "    <tr style=\"text-align: right;\">\n",
       "      <th></th>\n",
       "      <th>CPBD</th>\n",
       "      <th>NIQE</th>\n",
       "      <th>BRISQUE</th>\n",
       "      <th>CNNIQA</th>\n",
       "      <th>ILNIQE</th>\n",
       "      <th>HYPER</th>\n",
       "      <th>WaDIQaM_LIVE</th>\n",
       "      <th>DIQaM_LIVE</th>\n",
       "      <th>WaDIQaM_TID</th>\n",
       "      <th>DIQaM_TID</th>\n",
       "      <th>DMOS</th>\n",
       "      <th>DIST_IMG</th>\n",
       "    </tr>\n",
       "  </thead>\n",
       "  <tbody>\n",
       "    <tr>\n",
       "      <th>0</th>\n",
       "      <td>0.524</td>\n",
       "      <td>15.288</td>\n",
       "      <td>18.468</td>\n",
       "      <td>17.725</td>\n",
       "      <td>22.025</td>\n",
       "      <td>67.377</td>\n",
       "      <td>7.515</td>\n",
       "      <td>29.026</td>\n",
       "      <td>34.108</td>\n",
       "      <td>35.453</td>\n",
       "      <td>4.57</td>\n",
       "      <td>I01_01_01.png</td>\n",
       "    </tr>\n",
       "    <tr>\n",
       "      <th>1</th>\n",
       "      <td>0.407</td>\n",
       "      <td>16.106</td>\n",
       "      <td>26.225</td>\n",
       "      <td>21.482</td>\n",
       "      <td>24.490</td>\n",
       "      <td>59.614</td>\n",
       "      <td>26.515</td>\n",
       "      <td>35.895</td>\n",
       "      <td>33.785</td>\n",
       "      <td>35.580</td>\n",
       "      <td>4.33</td>\n",
       "      <td>I01_01_02.png</td>\n",
       "    </tr>\n",
       "    <tr>\n",
       "      <th>2</th>\n",
       "      <td>0.131</td>\n",
       "      <td>18.836</td>\n",
       "      <td>50.731</td>\n",
       "      <td>43.691</td>\n",
       "      <td>36.201</td>\n",
       "      <td>42.574</td>\n",
       "      <td>44.362</td>\n",
       "      <td>47.225</td>\n",
       "      <td>43.473</td>\n",
       "      <td>37.948</td>\n",
       "      <td>2.67</td>\n",
       "      <td>I01_01_03.png</td>\n",
       "    </tr>\n",
       "    <tr>\n",
       "      <th>3</th>\n",
       "      <td>0.005</td>\n",
       "      <td>18.813</td>\n",
       "      <td>70.424</td>\n",
       "      <td>61.468</td>\n",
       "      <td>59.741</td>\n",
       "      <td>38.503</td>\n",
       "      <td>56.649</td>\n",
       "      <td>58.178</td>\n",
       "      <td>58.608</td>\n",
       "      <td>40.670</td>\n",
       "      <td>1.67</td>\n",
       "      <td>I01_01_04.png</td>\n",
       "    </tr>\n",
       "    <tr>\n",
       "      <th>4</th>\n",
       "      <td>0.000</td>\n",
       "      <td>17.540</td>\n",
       "      <td>90.263</td>\n",
       "      <td>78.708</td>\n",
       "      <td>90.068</td>\n",
       "      <td>43.387</td>\n",
       "      <td>52.663</td>\n",
       "      <td>65.557</td>\n",
       "      <td>78.039</td>\n",
       "      <td>36.814</td>\n",
       "      <td>1.10</td>\n",
       "      <td>I01_01_05.png</td>\n",
       "    </tr>\n",
       "    <tr>\n",
       "      <th>...</th>\n",
       "      <td>...</td>\n",
       "      <td>...</td>\n",
       "      <td>...</td>\n",
       "      <td>...</td>\n",
       "      <td>...</td>\n",
       "      <td>...</td>\n",
       "      <td>...</td>\n",
       "      <td>...</td>\n",
       "      <td>...</td>\n",
       "      <td>...</td>\n",
       "      <td>...</td>\n",
       "      <td>...</td>\n",
       "    </tr>\n",
       "    <tr>\n",
       "      <th>1210</th>\n",
       "      <td>0.586</td>\n",
       "      <td>9.889</td>\n",
       "      <td>1.867</td>\n",
       "      <td>24.134</td>\n",
       "      <td>28.267</td>\n",
       "      <td>64.626</td>\n",
       "      <td>50.081</td>\n",
       "      <td>28.706</td>\n",
       "      <td>44.715</td>\n",
       "      <td>46.724</td>\n",
       "      <td>4.80</td>\n",
       "      <td>I81_03_01.png</td>\n",
       "    </tr>\n",
       "    <tr>\n",
       "      <th>1211</th>\n",
       "      <td>0.430</td>\n",
       "      <td>16.853</td>\n",
       "      <td>14.119</td>\n",
       "      <td>31.408</td>\n",
       "      <td>28.785</td>\n",
       "      <td>52.423</td>\n",
       "      <td>44.000</td>\n",
       "      <td>33.874</td>\n",
       "      <td>47.563</td>\n",
       "      <td>48.657</td>\n",
       "      <td>4.27</td>\n",
       "      <td>I81_03_02.png</td>\n",
       "    </tr>\n",
       "    <tr>\n",
       "      <th>1212</th>\n",
       "      <td>0.472</td>\n",
       "      <td>20.821</td>\n",
       "      <td>28.383</td>\n",
       "      <td>40.116</td>\n",
       "      <td>35.516</td>\n",
       "      <td>40.440</td>\n",
       "      <td>48.820</td>\n",
       "      <td>42.019</td>\n",
       "      <td>54.019</td>\n",
       "      <td>53.369</td>\n",
       "      <td>2.60</td>\n",
       "      <td>I81_03_03.png</td>\n",
       "    </tr>\n",
       "    <tr>\n",
       "      <th>1213</th>\n",
       "      <td>0.104</td>\n",
       "      <td>18.558</td>\n",
       "      <td>54.815</td>\n",
       "      <td>41.899</td>\n",
       "      <td>47.930</td>\n",
       "      <td>34.846</td>\n",
       "      <td>54.851</td>\n",
       "      <td>43.308</td>\n",
       "      <td>58.022</td>\n",
       "      <td>53.953</td>\n",
       "      <td>2.17</td>\n",
       "      <td>I81_03_04.png</td>\n",
       "    </tr>\n",
       "    <tr>\n",
       "      <th>1214</th>\n",
       "      <td>0.073</td>\n",
       "      <td>19.634</td>\n",
       "      <td>25.641</td>\n",
       "      <td>46.625</td>\n",
       "      <td>47.633</td>\n",
       "      <td>31.975</td>\n",
       "      <td>45.720</td>\n",
       "      <td>45.908</td>\n",
       "      <td>53.080</td>\n",
       "      <td>57.498</td>\n",
       "      <td>1.53</td>\n",
       "      <td>I81_03_05.png</td>\n",
       "    </tr>\n",
       "  </tbody>\n",
       "</table>\n",
       "<p>1215 rows × 12 columns</p>\n",
       "</div>"
      ],
      "text/plain": [
       "       CPBD    NIQE  BRISQUE  CNNIQA  ILNIQE   HYPER  WaDIQaM_LIVE  \\\n",
       "0     0.524  15.288   18.468  17.725  22.025  67.377         7.515   \n",
       "1     0.407  16.106   26.225  21.482  24.490  59.614        26.515   \n",
       "2     0.131  18.836   50.731  43.691  36.201  42.574        44.362   \n",
       "3     0.005  18.813   70.424  61.468  59.741  38.503        56.649   \n",
       "4     0.000  17.540   90.263  78.708  90.068  43.387        52.663   \n",
       "...     ...     ...      ...     ...     ...     ...           ...   \n",
       "1210  0.586   9.889    1.867  24.134  28.267  64.626        50.081   \n",
       "1211  0.430  16.853   14.119  31.408  28.785  52.423        44.000   \n",
       "1212  0.472  20.821   28.383  40.116  35.516  40.440        48.820   \n",
       "1213  0.104  18.558   54.815  41.899  47.930  34.846        54.851   \n",
       "1214  0.073  19.634   25.641  46.625  47.633  31.975        45.720   \n",
       "\n",
       "      DIQaM_LIVE  WaDIQaM_TID  DIQaM_TID  DMOS       DIST_IMG  \n",
       "0         29.026       34.108     35.453  4.57  I01_01_01.png  \n",
       "1         35.895       33.785     35.580  4.33  I01_01_02.png  \n",
       "2         47.225       43.473     37.948  2.67  I01_01_03.png  \n",
       "3         58.178       58.608     40.670  1.67  I01_01_04.png  \n",
       "4         65.557       78.039     36.814  1.10  I01_01_05.png  \n",
       "...          ...          ...        ...   ...            ...  \n",
       "1210      28.706       44.715     46.724  4.80  I81_03_01.png  \n",
       "1211      33.874       47.563     48.657  4.27  I81_03_02.png  \n",
       "1212      42.019       54.019     53.369  2.60  I81_03_03.png  \n",
       "1213      43.308       58.022     53.953  2.17  I81_03_04.png  \n",
       "1214      45.908       53.080     57.498  1.53  I81_03_05.png  \n",
       "\n",
       "[1215 rows x 12 columns]"
      ]
     },
     "execution_count": 154,
     "metadata": {},
     "output_type": "execute_result"
    }
   ],
   "source": [
    "NRIQA_df_last"
   ]
  },
  {
   "cell_type": "code",
   "execution_count": 155,
   "metadata": {},
   "outputs": [],
   "source": [
    "# 이상치 인덱스 추출"
   ]
  },
  {
   "cell_type": "code",
   "execution_count": null,
   "metadata": {},
   "outputs": [],
   "source": [
    "answer=list()\n",
    "for idx,i in enumerate(a[::5]):\n",
    "    print(idx)\n",
    "    i=a.index(i,idx)\n",
    "    for idx2,x in enumerate(a[i:i+5]):\n",
    "        x=a[i:i+5].index(x,idx2)\n",
    "        \n",
    "        \n",
    "        try :\n",
    "            if a[i:i+5][x]< a[i:i+5][x+1]:\n",
    "                answer.append((a[i:i+5][x+1],(idx*5)+a[i:i+5].index(a[i:i+5][x+1],idx2)))\n",
    "            \n",
    "        except IndexError:\n",
    "            pass"
   ]
  },
  {
   "cell_type": "code",
   "execution_count": null,
   "metadata": {},
   "outputs": [],
   "source": [
    "# 이상치 blur 단계 조회"
   ]
  },
  {
   "cell_type": "code",
   "execution_count": 3,
   "metadata": {},
   "outputs": [],
   "source": [
    "NRIQA_df_ffhq_gau=pd.read_csv('C:/Users/Home/Desktop/IQA/NRIQA_df_ffhq_gau.csv')"
   ]
  },
  {
   "cell_type": "code",
   "execution_count": 4,
   "metadata": {},
   "outputs": [
    {
     "data": {
      "text/plain": [
       "Index(['CPBD', 'NIQE', 'BRISQUE', 'CNNIQA', 'HYPER', 'WaDIQaM_LIVE',\n",
       "       'DIQaM_LIVE', 'WaDIQaM_TID', 'DIQaM_TID'],\n",
       "      dtype='object')"
      ]
     },
     "execution_count": 4,
     "metadata": {},
     "output_type": "execute_result"
    }
   ],
   "source": [
    "NRIQA_df_ffhq_gau.columns"
   ]
  },
  {
   "cell_type": "code",
   "execution_count": 5,
   "metadata": {},
   "outputs": [],
   "source": [
    "def find_blur_level_reverse(NR):\n",
    "    # cnn brisque niqe WaDIQaM\n",
    "    answer=list()\n",
    "    for idx,i in enumerate(NR[::5]):\n",
    "        \n",
    "        i=NR.index(i,idx)\n",
    "        for idx2,x in enumerate(NR[i:i+5]):\n",
    "            x=NR[i:i+5].index(x,idx2)\n",
    "            \n",
    "            \n",
    "            try :\n",
    "                if NR[i:i+5][x]> NR[i:i+5][x+1]:\n",
    "                    # answer.append((NR[i:i+5][x+1],NR[i:i+5].index(NR[i:i+5][x+1],idx2)))\n",
    "                    answer.append(NR[i:i+5].index(NR[i:i+5][x+1],idx2))\n",
    "            except IndexError:\n",
    "                pass\n",
    "    return answer"
   ]
  },
  {
   "cell_type": "code",
   "execution_count": 6,
   "metadata": {},
   "outputs": [],
   "source": [
    "def find_blur_level(NR):\n",
    "    # cpbd hyper\n",
    "    answer=list()\n",
    "    for idx,i in enumerate(NR[::5]):\n",
    "        \n",
    "        i=NR.index(i,idx)\n",
    "        for idx2,x in enumerate(NR[i:i+5]):\n",
    "            x=NR[i:i+5].index(x,idx2)\n",
    "            \n",
    "            \n",
    "            try :\n",
    "                if NR[i:i+5][x]< NR[i:i+5][x+1]:\n",
    "                    # answer.append((NR[i:i+5][x+1],NR[i:i+5].index(NR[i:i+5][x+1],idx2)))\n",
    "                    answer.append(NR[i:i+5].index(NR[i:i+5][x+1],idx2))\n",
    "                \n",
    "            except IndexError:\n",
    "                pass\n",
    "    return answer\n"
   ]
  },
  {
   "cell_type": "code",
   "execution_count": 7,
   "metadata": {},
   "outputs": [],
   "source": [
    "NIQE=find_blur_level_reverse(list(NRIQA_df_ffhq_gau['NIQE']))\n",
    "BRISQUE=find_blur_level_reverse(list(NRIQA_df_ffhq_gau['BRISQUE']))\n",
    "CNNIQA=find_blur_level_reverse(list(NRIQA_df_ffhq_gau['CNNIQA']))\n",
    "WaDIQaM_LIVE=find_blur_level_reverse(list(NRIQA_df_ffhq_gau['WaDIQaM_LIVE']))\n",
    "DIQaM_LIVE=find_blur_level_reverse(list(NRIQA_df_ffhq_gau['DIQaM_LIVE']))\n",
    "WaDIQaM_TID=find_blur_level_reverse(list(NRIQA_df_ffhq_gau['WaDIQaM_TID']))\n",
    "DIQaM_TID=find_blur_level_reverse(list(NRIQA_df_ffhq_gau['DIQaM_TID']))\n"
   ]
  },
  {
   "cell_type": "code",
   "execution_count": 8,
   "metadata": {},
   "outputs": [],
   "source": [
    "CPBD=find_blur_level(list(NRIQA_df_ffhq_gau['CPBD']))\n",
    "HYPER=find_blur_level(list(NRIQA_df_ffhq_gau['HYPER']))\n"
   ]
  },
  {
   "cell_type": "code",
   "execution_count": null,
   "metadata": {},
   "outputs": [
    {
     "name": "stdout",
     "output_type": "stream",
     "text": [
      "{1: 629, 2: 560, 4: 576, 3: 619}\n",
      "2384\n"
     ]
    }
   ],
   "source": [
    "# 중복값 카운트\n",
    "# count={}\n",
    "# lists = NIQE\n",
    "# for i in lists:\n",
    "#     try: count[i] += 1\n",
    "#     except: count[i]=1\n",
    "# print(count)\n",
    "# print(len(NIQE))"
   ]
  },
  {
   "cell_type": "code",
   "execution_count": 9,
   "metadata": {},
   "outputs": [
    {
     "name": "stdout",
     "output_type": "stream",
     "text": [
      "{1: 595, 2: 609, 4: 585, 3: 560}\n"
     ]
    }
   ],
   "source": [
    "lists=CPBD\n",
    "count_CPBD={}\n",
    "\n",
    "for i in lists:\n",
    "    try: count_CPBD[i] += 1\n",
    "    except: count_CPBD[i]=1\n",
    "print(count_CPBD)"
   ]
  },
  {
   "cell_type": "code",
   "execution_count": 10,
   "metadata": {},
   "outputs": [
    {
     "name": "stdout",
     "output_type": "stream",
     "text": [
      "{1: 629, 2: 560, 4: 576, 3: 619}\n"
     ]
    }
   ],
   "source": [
    "lists=NIQE\n",
    "count_NIQE={}\n",
    "\n",
    "for i in lists:\n",
    "    try: count_NIQE[i] += 1\n",
    "    except: count_NIQE[i]=1\n",
    "print(count_NIQE)"
   ]
  },
  {
   "cell_type": "code",
   "execution_count": 11,
   "metadata": {},
   "outputs": [
    {
     "name": "stdout",
     "output_type": "stream",
     "text": [
      "{1: 631, 2: 580, 4: 590, 3: 620}\n"
     ]
    }
   ],
   "source": [
    "lists=BRISQUE\n",
    "count_BRISQUE={}\n",
    "\n",
    "for i in lists:\n",
    "    try: count_BRISQUE[i] += 1\n",
    "    except: count_BRISQUE[i]=1\n",
    "print(count_BRISQUE)\n"
   ]
  },
  {
   "cell_type": "code",
   "execution_count": 12,
   "metadata": {},
   "outputs": [
    {
     "name": "stdout",
     "output_type": "stream",
     "text": [
      "{1: 644, 2: 563, 4: 603, 3: 594}\n"
     ]
    }
   ],
   "source": [
    "lists=CNNIQA\n",
    "count_CNNIQA={}\n",
    "\n",
    "for i in lists:\n",
    "    try: count_CNNIQA[i] += 1\n",
    "    except: count_CNNIQA[i]=1\n",
    "print(count_CNNIQA)"
   ]
  },
  {
   "cell_type": "code",
   "execution_count": 13,
   "metadata": {},
   "outputs": [
    {
     "name": "stdout",
     "output_type": "stream",
     "text": [
      "{4: 163, 1: 27, 3: 11, 2: 1}\n"
     ]
    }
   ],
   "source": [
    "lists=HYPER\n",
    "count_HYPER={}\n",
    "\n",
    "for i in lists:\n",
    "    try: count_HYPER[i] += 1\n",
    "    except: count_HYPER[i]=1\n",
    "print(count_HYPER)"
   ]
  },
  {
   "cell_type": "code",
   "execution_count": 14,
   "metadata": {},
   "outputs": [
    {
     "name": "stdout",
     "output_type": "stream",
     "text": [
      "{1: 638, 3: 556, 2: 625, 4: 611}\n"
     ]
    }
   ],
   "source": [
    "lists=WaDIQaM_LIVE\n",
    "count_WaDIQaM_LIVE={}\n",
    "\n",
    "for i in lists:\n",
    "    try: count_WaDIQaM_LIVE[i] += 1\n",
    "    except: count_WaDIQaM_LIVE[i]=1\n",
    "print(count_WaDIQaM_LIVE)"
   ]
  },
  {
   "cell_type": "code",
   "execution_count": 15,
   "metadata": {},
   "outputs": [
    {
     "name": "stdout",
     "output_type": "stream",
     "text": [
      "{1: 625, 3: 574, 2: 598, 4: 600}\n"
     ]
    }
   ],
   "source": [
    "lists=DIQaM_LIVE\n",
    "count_DIQaM_LIVE={}\n",
    "\n",
    "for i in lists:\n",
    "    try: count_DIQaM_LIVE[i] += 1\n",
    "    except: count_DIQaM_LIVE[i]=1\n",
    "print(count_DIQaM_LIVE)"
   ]
  },
  {
   "cell_type": "code",
   "execution_count": 16,
   "metadata": {},
   "outputs": [
    {
     "name": "stdout",
     "output_type": "stream",
     "text": [
      "{1: 620, 3: 572, 2: 601, 4: 594}\n"
     ]
    }
   ],
   "source": [
    "lists=WaDIQaM_TID\n",
    "count_WaDIQaM_TID={}\n",
    "\n",
    "for i in lists:\n",
    "    try: count_WaDIQaM_TID[i] += 1\n",
    "    except: count_WaDIQaM_TID[i]=1\n",
    "print(count_WaDIQaM_TID)"
   ]
  },
  {
   "cell_type": "code",
   "execution_count": 17,
   "metadata": {},
   "outputs": [
    {
     "name": "stdout",
     "output_type": "stream",
     "text": [
      "{1: 620, 3: 570, 2: 606, 4: 622}\n"
     ]
    }
   ],
   "source": [
    "lists=DIQaM_TID\n",
    "count_DIQaM_TID={}\n",
    "\n",
    "for i in lists:\n",
    "    try: count_DIQaM_TID[i] += 1\n",
    "    except: count_DIQaM_TID[i]=1\n",
    "print(count_DIQaM_TID)"
   ]
  },
  {
   "cell_type": "code",
   "execution_count": 18,
   "metadata": {},
   "outputs": [],
   "source": [
    "error_count=pd.DataFrame({'blur_gau_lv': [2,3,4,5],\n",
    "                        'CPBD':[count_CPBD[1],count_CPBD[2],count_CPBD[3],count_CPBD[4]],\n",
    "                        'NIQE':[count_NIQE[1],count_NIQE[2],count_NIQE[3],count_NIQE[4]],\n",
    "                        'BRISQUE':[count_BRISQUE[1],count_BRISQUE[2],count_BRISQUE[3],count_BRISQUE[4]], \n",
    "                        'CNNIQA':[count_NIQE[1],count_NIQE[2],count_NIQE[3],count_NIQE[4]], \n",
    "                        'HYPER':[count_HYPER[1],count_HYPER[2],count_HYPER[3],count_HYPER[4]], \n",
    "                        'WaDIQaM_LIVE':[count_WaDIQaM_LIVE[1],count_WaDIQaM_LIVE[2],count_WaDIQaM_LIVE[3],count_WaDIQaM_LIVE[4]],\n",
    "                        'DIQaM_LIVE':[count_DIQaM_LIVE[1],count_DIQaM_LIVE[2],count_DIQaM_LIVE[3],count_DIQaM_LIVE[4]], \n",
    "                        'WaDIQaM_TID':[count_WaDIQaM_TID[1],count_WaDIQaM_TID[2],count_WaDIQaM_TID[3],count_WaDIQaM_TID[4]], \n",
    "                        'DIQaM_TID' :[count_DIQaM_TID[1],count_DIQaM_TID[2],count_DIQaM_TID[3],count_DIQaM_TID[4]],})\n",
    "                    "
   ]
  },
  {
   "cell_type": "code",
   "execution_count": null,
   "metadata": {},
   "outputs": [
    {
     "data": {
      "text/html": [
       "<div>\n",
       "<style scoped>\n",
       "    .dataframe tbody tr th:only-of-type {\n",
       "        vertical-align: middle;\n",
       "    }\n",
       "\n",
       "    .dataframe tbody tr th {\n",
       "        vertical-align: top;\n",
       "    }\n",
       "\n",
       "    .dataframe thead th {\n",
       "        text-align: right;\n",
       "    }\n",
       "</style>\n",
       "<table border=\"1\" class=\"dataframe\">\n",
       "  <thead>\n",
       "    <tr style=\"text-align: right;\">\n",
       "      <th></th>\n",
       "      <th>blur_gau_lv</th>\n",
       "      <th>CPBD</th>\n",
       "      <th>NIQE</th>\n",
       "      <th>BRISQUE</th>\n",
       "      <th>CNNIQA</th>\n",
       "      <th>HYPER</th>\n",
       "      <th>WaDIQaM_LIVE</th>\n",
       "      <th>DIQaM_LIVE</th>\n",
       "      <th>WaDIQaM_TID</th>\n",
       "      <th>DIQaM_TID</th>\n",
       "    </tr>\n",
       "  </thead>\n",
       "  <tbody>\n",
       "    <tr>\n",
       "      <th>0</th>\n",
       "      <td>2</td>\n",
       "      <td>595</td>\n",
       "      <td>629</td>\n",
       "      <td>631</td>\n",
       "      <td>629</td>\n",
       "      <td>27</td>\n",
       "      <td>638</td>\n",
       "      <td>625</td>\n",
       "      <td>620</td>\n",
       "      <td>620</td>\n",
       "    </tr>\n",
       "    <tr>\n",
       "      <th>1</th>\n",
       "      <td>3</td>\n",
       "      <td>609</td>\n",
       "      <td>560</td>\n",
       "      <td>580</td>\n",
       "      <td>560</td>\n",
       "      <td>1</td>\n",
       "      <td>625</td>\n",
       "      <td>598</td>\n",
       "      <td>601</td>\n",
       "      <td>606</td>\n",
       "    </tr>\n",
       "    <tr>\n",
       "      <th>2</th>\n",
       "      <td>4</td>\n",
       "      <td>560</td>\n",
       "      <td>619</td>\n",
       "      <td>620</td>\n",
       "      <td>619</td>\n",
       "      <td>11</td>\n",
       "      <td>556</td>\n",
       "      <td>574</td>\n",
       "      <td>572</td>\n",
       "      <td>570</td>\n",
       "    </tr>\n",
       "    <tr>\n",
       "      <th>3</th>\n",
       "      <td>5</td>\n",
       "      <td>585</td>\n",
       "      <td>576</td>\n",
       "      <td>590</td>\n",
       "      <td>576</td>\n",
       "      <td>163</td>\n",
       "      <td>611</td>\n",
       "      <td>600</td>\n",
       "      <td>594</td>\n",
       "      <td>622</td>\n",
       "    </tr>\n",
       "  </tbody>\n",
       "</table>\n",
       "</div>"
      ],
      "text/plain": [
       "  blur_gau_lv  CPBD  NIQE  BRISQUE  CNNIQA  HYPER  WaDIQaM_LIVE  DIQaM_LIVE  \\\n",
       "0           2   595   629      631     629     27           638         625   \n",
       "1           3   609   560      580     560      1           625         598   \n",
       "2           4   560   619      620     619     11           556         574   \n",
       "3           5   585   576      590     576    163           611         600   \n",
       "\n",
       "   WaDIQaM_TID  DIQaM_TID  \n",
       "0          620        620  \n",
       "1          601        606  \n",
       "2          572        570  \n",
       "3          594        622  "
      ]
     },
     "execution_count": 108,
     "metadata": {},
     "output_type": "execute_result"
    }
   ],
   "source": [
    "error_count"
   ]
  },
  {
   "cell_type": "code",
   "execution_count": null,
   "metadata": {},
   "outputs": [],
   "source": [
    "error_count.to_csv('error_count_gau.csv', index=False)"
   ]
  },
  {
   "cell_type": "code",
   "execution_count": 19,
   "metadata": {},
   "outputs": [],
   "source": [
    "test=pd.read_csv('error_count_gau.csv')"
   ]
  },
  {
   "cell_type": "code",
   "execution_count": 23,
   "metadata": {},
   "outputs": [
    {
     "data": {
      "text/plain": [
       "blur_gau_lv       14\n",
       "HYPER            202\n",
       "CPBD            2349\n",
       "NIQE            2384\n",
       "CNNIQA          2384\n",
       "WaDIQaM_TID     2387\n",
       "DIQaM_LIVE      2397\n",
       "DIQaM_TID       2418\n",
       "BRISQUE         2421\n",
       "WaDIQaM_LIVE    2430\n",
       "dtype: int64"
      ]
     },
     "execution_count": 23,
     "metadata": {},
     "output_type": "execute_result"
    }
   ],
   "source": [
    "error_count.sum().sort_values()"
   ]
  },
  {
   "cell_type": "code",
   "execution_count": null,
   "metadata": {},
   "outputs": [
    {
     "data": {
      "image/png": "[encoded data removed]",
      "text/plain": [
       "<Figure size 2160x360 with 1 Axes>"
      ]
     },
     "metadata": {
      "needs_background": "light"
     },
     "output_type": "display_data"
    }
   ],
   "source": [
    "bar_width = 0.1\n",
    "alpha = 0.5\n",
    "index=np.arange(2,6)\n",
    "plt.figure(figsize=(30,5))\n",
    "p1=plt.bar(index, error_count['CPBD'],bar_width,  alpha=alpha, label='CPBD')\n",
    "p2=plt.bar(index+ bar_width, error_count['NIQE'],bar_width, alpha=alpha, label='NIQE')\n",
    "p3=plt.bar(index+ (bar_width*2), error_count['BRISQUE'],bar_width,  alpha=alpha, label='BRISQUE')\n",
    "p4=plt.bar(index+ (bar_width*3), error_count['CNNIQA'],bar_width,  alpha=alpha, label='CNNIQA')\n",
    "p5=plt.bar(index+ (bar_width*4), error_count['HYPER'],bar_width,  alpha=alpha, label='HYPER')\n",
    "p6=plt.bar(index+ (bar_width*5), error_count['WaDIQaM_LIVE'],bar_width,  alpha=alpha, label='WaDIQaM_LIVE')\n",
    "p7=plt.bar(index+ (bar_width*6), error_count['DIQaM_LIVE'],bar_width,  alpha=alpha, label='DIQaM_LIVE')\n",
    "p8=plt.bar(index+ (bar_width*7), error_count['WaDIQaM_TID'],bar_width,  alpha=alpha, label='WaDIQaM_TID')\n",
    "p9=plt.bar(index+ (bar_width*8), error_count['DIQaM_TID'],bar_width,  alpha=alpha, label='DIQaM_TID')\n",
    "\n",
    "plt.title('error_count_gau', fontsize=20)\n",
    "plt.ylabel('Sum of error', fontsize=18)\n",
    "plt.xlabel('NR_Metric', fontsize=18)\n",
    "plt.xticks(index,error_count['blur_gau_lv'],fontsize=15)\n",
    "plt.legend((p1[0], p2[0],p3[0],p4[0],p5[0],p6[0],p7[0],p8[0],p9[0]), ('CPBD', 'NIQE', 'BRISQUE', 'CNNIQA', 'HYPER', 'WaDIQaM_LIVE',\n",
    "       'DIQaM_LIVE', 'WaDIQaM_TID', 'DIQaM_TID'), fontsize=8)\n",
    "plt.show()"
   ]
  },
  {
   "cell_type": "code",
   "execution_count": 24,
   "metadata": {},
   "outputs": [
    {
     "data": {
      "image/png": "[encoded data removed]",
      "text/plain": [
       "<Figure size 1080x1080 with 9 Axes>"
      ]
     },
     "metadata": {
      "needs_background": "light"
     },
     "output_type": "display_data"
    }
   ],
   "source": [
    "plt.figure(figsize=(15,15))\n",
    "n=1\n",
    "for i in error_count.columns[1:]:\n",
    "    \n",
    "    plt.subplot(3, 3, n) #sharex=ax1)\n",
    "    plt.bar(['lv2','lv3','lv4','lv5'], error_count[f'{i}'],  color = ['gold', 'b', '#FF0000', 'green'], alpha=0.5, label=f'{i}')\n",
    "    plt.ylabel('Sum of error', fontsize=10)\n",
    "    plt.xlabel((f'{i}', error_count[f'{i}'].sum()), fontsize=10)\n",
    "    n+=1"
   ]
  },
  {
   "cell_type": "code",
   "execution_count": null,
   "metadata": {},
   "outputs": [],
   "source": []
  },
  {
   "cell_type": "markdown",
   "metadata": {},
   "source": []
  }
 ],
 "metadata": {
  "kernelspec": {
   "display_name": "Python 3.10.4 64-bit",
   "language": "python",
   "name": "python3"
  },
  "language_info": {
   "codemirror_mode": {
    "name": "ipython",
    "version": 3
   },
   "file_extension": ".py",
   "mimetype": "text/x-python",
   "name": "python",
   "nbconvert_exporter": "python",
   "pygments_lexer": "ipython3",
   "version": "3.10.4"
  },
  "orig_nbformat": 4,
  "vscode": {
   "interpreter": {
    "hash": "369f2c481f4da34e4445cda3fffd2e751bd1c4d706f27375911949ba6bb62e1c"
   }
  }
 },
 "nbformat": 4,
 "nbformat_minor": 2
}
